{
  "nbformat": 4,
  "nbformat_minor": 0,
  "metadata": {
    "colab": {
      "name": "puzzle.ipynb",
      "provenance": [],
      "collapsed_sections": [],
      "authorship_tag": "ABX9TyO9Vh6S9lwRJbvVUomdXBoW",
      "include_colab_link": true
    },
    "kernelspec": {
      "name": "python3",
      "display_name": "Python 3"
    }
  },
  "cells": [
    {
      "cell_type": "markdown",
      "metadata": {
        "id": "view-in-github",
        "colab_type": "text"
      },
      "source": [
        "<a href=\"https://colab.research.google.com/github/Oguzhan-Sevim/PuzzleSolution/blob/master/puzzle.ipynb\" target=\"_parent\"><img src=\"https://colab.research.google.com/assets/colab-badge.svg\" alt=\"Open In Colab\"/></a>"
      ]
    },
    {
      "cell_type": "markdown",
      "metadata": {
        "id": "yv_gx-1ppYx9",
        "colab_type": "text"
      },
      "source": [
        "**A Puzzle**\n",
        "\n",
        "Three players A, B, C play the following game. First, A picks a real number between 0 and 1 (both inclusive), then B picks a number in the same range (different from A’s choice) and finally C picks a number, also in the same range, (different from the two chosen numbers). We then pick a number in the range uniformly randomly. Whoever’s number is closest to this random number wins the game. Assume that A, B and C all play optimally and their sole goal is to maximise their chances of winning. Also assume that if one of them has several optimal choices, then that player will randomly pick one of the optimal choices.\n",
        "\n",
        "Can you write a program to figure out the best choice for the first player when the game is played among four players?"
      ]
    },
    {
      "cell_type": "code",
      "metadata": {
        "id": "yS8lvu4AvSxD",
        "colab_type": "code",
        "colab": {}
      },
      "source": [
        "import numpy as np"
      ],
      "execution_count": 1,
      "outputs": []
    },
    {
      "cell_type": "code",
      "metadata": {
        "id": "quvBLZkhy6tV",
        "colab_type": "code",
        "colab": {}
      },
      "source": [
        "def winning_prob(values):\n",
        "  # This function takes the choices of players as input and returns\n",
        "  # the winning probabilities of agents for their chosen values.\n",
        "  # e.g. [0.05, 0.35, 0.55, 0.95] would corresponds winning chances of [0.2, 0.25, 0.3, 0.25]\n",
        "  temp = sorted(values)\n",
        "  order = [temp.index(i) for i in values]\n",
        "\n",
        "  returns = [0, 0, 0, 0]\n",
        "\n",
        "  returns[order.index(0)] = round( values[order.index(0)] + (values[order.index(1)] - values[order.index(0)]) / 2 , 3)\n",
        "  returns[order.index(1)] = round( (values[order.index(2)] - values[order.index(0)]) / 2 , 3)\n",
        "  returns[order.index(2)] = round( (values[order.index(3)] - values[order.index(1)]) / 2 , 3)\n",
        "  returns[order.index(3)] = round( ( 1 - values[order.index(3)] ) + (values[order.index(3)] - values[order.index(2)]) / 2 , 3)\n",
        "      \n",
        "  return returns"
      ],
      "execution_count": 2,
      "outputs": []
    },
    {
      "cell_type": "code",
      "metadata": {
        "id": "Ix4IZrWmR9gs",
        "colab_type": "code",
        "colab": {
          "base_uri": "https://localhost:8080/",
          "height": 34
        },
        "outputId": "2e4d9f72-b656-4fe9-ca6f-5600b58cd98d"
      },
      "source": [
        "# Check if the probability calculator works correctly:\n",
        "test_list = [0.05, 0.35, 0.55, 0.95]\n",
        "test_list2 = [0.48, 0.84, 0.18, 0.5]\n",
        "print( winning_prob(test_list) )"
      ],
      "execution_count": 4,
      "outputs": [
        {
          "output_type": "stream",
          "text": [
            "[0.2, 0.25, 0.3, 0.25]\n"
          ],
          "name": "stdout"
        }
      ]
    },
    {
      "cell_type": "code",
      "metadata": {
        "id": "5x6iibRc1tFo",
        "colab_type": "code",
        "colab": {
          "base_uri": "https://localhost:8080/",
          "height": 34
        },
        "outputId": "51c82180-310f-454c-fc06-3c4c135f9373"
      },
      "source": [
        "# Discretize interval 0-1 by the desired step size. Then, create an array\n",
        "# that has all scenarios.  \n",
        "step_size = 2 * 10**-2 # choose it wisely\n",
        "\n",
        "choices = np.arange(0, 1+step_size, step_size).astype(np.float16)\n",
        "len = choices.shape[0]\n",
        "\n",
        "a = np.repeat(choices, len**3)\n",
        "a = np.reshape(a, (a.shape[0], 1))\n",
        "\n",
        "b = np.repeat(choices, len**2)\n",
        "b = np.tile(b, len)\n",
        "b = np.reshape(b, (b.shape[0], 1))\n",
        "\n",
        "c = np.repeat(choices, len)\n",
        "c = np.tile(c, len**2)\n",
        "c = np.reshape(c, (c.shape[0], 1))\n",
        "\n",
        "d = np.tile(choices, len**3)\n",
        "d = np.reshape(d, (d.shape[0], 1))\n",
        "\n",
        "all_possibilities = np.concatenate((a,b,c,d), axis=1)\n",
        "\n",
        "del a, b, c, d\n",
        "\n",
        "print(all_possibilities.shape, all_possibilities.dtype)"
      ],
      "execution_count": null,
      "outputs": [
        {
          "output_type": "stream",
          "text": [
            "(6765201, 4) float16\n"
          ],
          "name": "stdout"
        }
      ]
    },
    {
      "cell_type": "code",
      "metadata": {
        "id": "DOSxzOHw1pwo",
        "colab_type": "code",
        "colab": {
          "base_uri": "https://localhost:8080/",
          "height": 34
        },
        "outputId": "19caa91a-da0a-4563-9ae5-a8caa460ddc7"
      },
      "source": [
        "# First clear all states where any 2 players make the same choice:\n",
        "del_index = []\n",
        "\n",
        "for i in range(all_possibilities.shape[0]):\n",
        "  if np.unique(all_possibilities[i,:], axis=0).shape[0] != 4:\n",
        "    del_index.append(i)\n",
        "\n",
        "all_possibilities = np.delete(all_possibilities, del_index, axis=0)\n",
        "\n",
        "del del_index\n",
        "\n",
        "print(all_possibilities.shape, all_possibilities.dtype)"
      ],
      "execution_count": null,
      "outputs": [
        {
          "output_type": "stream",
          "text": [
            "(5997600, 4) float16\n"
          ],
          "name": "stdout"
        }
      ]
    },
    {
      "cell_type": "code",
      "metadata": {
        "id": "I30MucY-E5Gu",
        "colab_type": "code",
        "colab": {
          "base_uri": "https://localhost:8080/",
          "height": 34
        },
        "outputId": "ef137dbc-db44-4b97-f203-0d1ba1fb5728"
      },
      "source": [
        "# Clear illogical choices for player d:\n",
        "player_index = 3\n",
        "\n",
        "previous_players_hold = all_possibilities[0,0:player_index]\n",
        "best_return = 0\n",
        "keep_index = []\n",
        "keep_index_temp = []\n",
        "\n",
        "for i in range(all_possibilities.shape[0]):\n",
        "  if np.array_equal(all_possibilities[i,0:player_index], previous_players_hold):\n",
        "    returns = winning_prob(all_possibilities[i,:].tolist())\n",
        "    if returns[player_index] > best_return:\n",
        "      best_return = returns[player_index]\n",
        "      keep_index_temp = [i]\n",
        "    elif returns[player_index] == best_return:\n",
        "      keep_index_temp = keep_index_temp + [i]\n",
        "  else:\n",
        "    keep_index = keep_index + keep_index_temp\n",
        "    keep_index_temp = [i]\n",
        "\n",
        "    returns = winning_prob(all_possibilities[i,:].tolist())\n",
        "    best_return = returns[player_index]\n",
        "    previous_players_hold = all_possibilities[i,0:player_index]\n",
        "    \n",
        "\n",
        "all_possibilities = all_possibilities[keep_index, :]\n",
        "\n",
        "print(all_possibilities.shape, all_possibilities.dtype)"
      ],
      "execution_count": null,
      "outputs": [
        {
          "output_type": "stream",
          "text": [
            "(1184855, 4) float16\n"
          ],
          "name": "stdout"
        }
      ]
    },
    {
      "cell_type": "code",
      "metadata": {
        "id": "lIj1PsGcIcXN",
        "colab_type": "code",
        "colab": {
          "base_uri": "https://localhost:8080/",
          "height": 34
        },
        "outputId": "92d5a354-300d-4e41-c260-228a82340d8d"
      },
      "source": [
        "# Clear illogical choices for player c:\n",
        "player_index = 2\n",
        "\n",
        "previous_players_hold = all_possibilities[0,0:player_index]\n",
        "best_return = 0\n",
        "keep_index = []\n",
        "keep_index_temp = []\n",
        "\n",
        "for i in range(all_possibilities.shape[0]):\n",
        "  if np.array_equal(all_possibilities[i,0:player_index], previous_players_hold):\n",
        "    returns = winning_prob(all_possibilities[i,:].tolist())\n",
        "    if returns[player_index] > best_return:\n",
        "      best_return = returns[player_index]\n",
        "      keep_index_temp = [i]\n",
        "    elif returns[player_index] == best_return:\n",
        "      keep_index_temp = keep_index_temp + [i]\n",
        "  else:\n",
        "    keep_index = keep_index + keep_index_temp\n",
        "    keep_index_temp = [i]\n",
        "\n",
        "    returns = winning_prob(all_possibilities[i,:].tolist())\n",
        "    best_return = returns[player_index]\n",
        "    previous_players_hold = all_possibilities[i,0:player_index]\n",
        "    \n",
        "\n",
        "all_possibilities = all_possibilities[keep_index, :]\n",
        "\n",
        "print(all_possibilities.shape)"
      ],
      "execution_count": null,
      "outputs": [
        {
          "output_type": "stream",
          "text": [
            "(27215, 4)\n"
          ],
          "name": "stdout"
        }
      ]
    },
    {
      "cell_type": "code",
      "metadata": {
        "id": "SW7u1xIynv2B",
        "colab_type": "code",
        "colab": {
          "base_uri": "https://localhost:8080/",
          "height": 34
        },
        "outputId": "159f6fc2-232c-4a49-d25a-780de2f6d984"
      },
      "source": [
        "# Clear illogical choices for player b:\n",
        "player_index = 1\n",
        "\n",
        "previous_players_hold = all_possibilities[0,0:player_index]\n",
        "best_return = 0\n",
        "keep_index = []\n",
        "keep_index_temp = []\n",
        "\n",
        "for i in range(all_possibilities.shape[0]):\n",
        "  if np.array_equal(all_possibilities[i,0:player_index], previous_players_hold):\n",
        "    returns = winning_prob(all_possibilities[i,:].tolist())\n",
        "    if returns[player_index] > best_return:\n",
        "      best_return = returns[player_index]\n",
        "      keep_index_temp = [i]\n",
        "    elif returns[player_index] == best_return:\n",
        "      keep_index_temp = keep_index_temp + [i]\n",
        "  else:\n",
        "    keep_index = keep_index + keep_index_temp\n",
        "    keep_index_temp = [i]\n",
        "\n",
        "    returns = winning_prob(all_possibilities[i,:].tolist())\n",
        "    best_return = returns[player_index]\n",
        "    previous_players_hold = all_possibilities[i,0:player_index]\n",
        "    \n",
        "all_possibilities = all_possibilities[keep_index, :]\n",
        "\n",
        "print(all_possibilities.shape)"
      ],
      "execution_count": null,
      "outputs": [
        {
          "output_type": "stream",
          "text": [
            "(61, 4)\n"
          ],
          "name": "stdout"
        }
      ]
    },
    {
      "cell_type": "code",
      "metadata": {
        "id": "lPYuVE5dInFH",
        "colab_type": "code",
        "colab": {
          "base_uri": "https://localhost:8080/",
          "height": 1000
        },
        "outputId": "f7cf3d8d-1715-4b4e-f70f-c021466a5de2"
      },
      "source": [
        "# Check the returns of player a:\n",
        "for i in range(all_possibilities.shape[0]):\n",
        "  returns = winning_prob(all_possibilities[i,:].tolist())\n",
        "  print(all_possibilities[i,:], returns)"
      ],
      "execution_count": null,
      "outputs": [
        {
          "output_type": "stream",
          "text": [
            "[0.   0.8  0.4  0.02] [0.01, 0.4, 0.39, 0.2]\n",
            "[0.02 0.8  0.42 0.04] [0.03, 0.39, 0.38, 0.2]\n",
            "[0.04 0.42 0.8  0.06] [0.05, 0.37, 0.39, 0.19]\n",
            "[0.04 0.44 0.8  0.06] [0.05, 0.37, 0.38, 0.2]\n",
            "[0.04 0.82 0.44 0.06] [0.05, 0.37, 0.38, 0.2]\n",
            "[0.06 0.82 0.44 0.08] [0.07, 0.37, 0.37, 0.19]\n",
            "[0.08 0.82 0.46 0.1 ] [0.09, 0.36, 0.36, 0.19]\n",
            "[0.1  0.82 0.46 0.12] [0.11, 0.36, 0.35, 0.18]\n",
            "[0.12 0.82 0.48 0.14] [0.13, 0.35, 0.34, 0.18]\n",
            "[0.14 0.48 0.82 0.16] [0.15, 0.33, 0.35, 0.17]\n",
            "[0.14 0.5  0.82 0.16] [0.15, 0.33, 0.34, 0.18]\n",
            "[0.14 0.84 0.5  0.16] [0.15, 0.33, 0.34, 0.18]\n",
            "[0.16 0.84 0.5  0.18] [0.17, 0.33, 0.33, 0.17]\n",
            "[0.18 0.82 0.48 0.16] [0.16, 0.35, 0.32, 0.17]\n",
            "[0.2  0.8  0.42 0.18] [0.12, 0.39, 0.3, 0.19]\n",
            "[0.22 0.78 0.36 0.2 ] [0.08, 0.43, 0.28, 0.21]\n",
            "[0.24 0.76 0.3  0.22] [0.04, 0.47, 0.26, 0.23]\n",
            "[0.26 0.76 0.24 0.28] [0.02, 0.48, 0.25, 0.25]\n",
            "[0.26 0.76 0.28 0.24] [0.02, 0.48, 0.25, 0.25]\n",
            "[0.28 0.76 0.24 0.3 ] [0.03, 0.47, 0.26, 0.24]\n",
            "[0.3  0.76 0.24 0.32] [0.04, 0.46, 0.27, 0.23]\n",
            "[0.32 0.78 0.24 0.34] [0.05, 0.44, 0.28, 0.23]\n",
            "[0.34 0.78 0.22 0.36] [0.07, 0.43, 0.28, 0.22]\n",
            "[0.36 0.78 0.22 0.38] [0.08, 0.42, 0.29, 0.21]\n",
            "[0.38 0.8  0.22 0.4 ] [0.09, 0.4, 0.3, 0.21]\n",
            "[0.4  0.8  0.2  0.42] [0.11, 0.39, 0.3, 0.2]\n",
            "[0.42 0.8  0.2  0.44] [0.12, 0.38, 0.31, 0.19]\n",
            "[0.44 0.82 0.2  0.46] [0.13, 0.36, 0.32, 0.19]\n",
            "[0.46 0.82 0.18 0.48] [0.15, 0.35, 0.32, 0.18]\n",
            "[0.48 0.82 0.18 0.5 ] [0.16, 0.34, 0.33, 0.17]\n",
            "[0.5  0.16 0.82 0.48] [0.17, 0.32, 0.34, 0.17]\n",
            "[0.5  0.84 0.18 0.52] [0.17, 0.32, 0.34, 0.17]\n",
            "[0.52 0.18 0.82 0.5 ] [0.16, 0.34, 0.33, 0.17]\n",
            "[0.54 0.18 0.82 0.52] [0.15, 0.35, 0.32, 0.18]\n",
            "[0.56 0.18 0.8  0.54] [0.13, 0.36, 0.32, 0.19]\n",
            "[0.58 0.2  0.8  0.56] [0.12, 0.38, 0.31, 0.19]\n",
            "[0.6  0.2  0.8  0.58] [0.11, 0.39, 0.3, 0.2]\n",
            "[0.62 0.2  0.78 0.6 ] [0.09, 0.4, 0.3, 0.21]\n",
            "[0.64 0.22 0.78 0.62] [0.08, 0.42, 0.29, 0.21]\n",
            "[0.66 0.22 0.78 0.64] [0.07, 0.43, 0.28, 0.22]\n",
            "[0.68 0.22 0.76 0.66] [0.05, 0.44, 0.28, 0.23]\n",
            "[0.7  0.24 0.76 0.68] [0.04, 0.46, 0.27, 0.23]\n",
            "[0.72 0.24 0.76 0.7 ] [0.03, 0.47, 0.26, 0.24]\n",
            "[0.74 0.24 0.72 0.76] [0.02, 0.48, 0.25, 0.25]\n",
            "[0.74 0.24 0.76 0.72] [0.02, 0.48, 0.25, 0.25]\n",
            "[0.76 0.24 0.7  0.78] [0.04, 0.47, 0.26, 0.23]\n",
            "[0.78 0.22 0.64 0.8 ] [0.08, 0.43, 0.28, 0.21]\n",
            "[0.8  0.2  0.58 0.82] [0.12, 0.39, 0.3, 0.19]\n",
            "[0.82 0.18 0.52 0.84] [0.16, 0.35, 0.32, 0.17]\n",
            "[0.84 0.16 0.5  0.82] [0.17, 0.33, 0.33, 0.17]\n",
            "[0.86 0.16 0.5  0.84] [0.15, 0.33, 0.34, 0.18]\n",
            "[0.86 0.5  0.18 0.84] [0.15, 0.33, 0.34, 0.18]\n",
            "[0.86 0.52 0.18 0.84] [0.15, 0.33, 0.35, 0.17]\n",
            "[0.88 0.18 0.52 0.86] [0.13, 0.35, 0.34, 0.18]\n",
            "[0.9  0.18 0.54 0.88] [0.11, 0.36, 0.35, 0.18]\n",
            "[0.92 0.18 0.54 0.9 ] [0.09, 0.36, 0.36, 0.19]\n",
            "[0.94 0.18 0.56 0.92] [0.07, 0.37, 0.37, 0.19]\n",
            "[0.96 0.18 0.56 0.94] [0.05, 0.37, 0.38, 0.2]\n",
            "[0.96 0.56 0.2  0.94] [0.05, 0.37, 0.38, 0.2]\n",
            "[0.96 0.58 0.2  0.94] [0.05, 0.37, 0.39, 0.19]\n",
            "[0.98 0.2  0.58 0.96] [0.03, 0.39, 0.38, 0.2]\n"
          ],
          "name": "stdout"
        }
      ]
    },
    {
      "cell_type": "code",
      "metadata": {
        "id": "MFnixLi4sp3Y",
        "colab_type": "code",
        "colab": {
          "base_uri": "https://localhost:8080/",
          "height": 34
        },
        "outputId": "f771fbcd-6594-412c-cc7b-631bef945cef"
      },
      "source": [
        "# Find the best choice for player a:\n",
        "player_index = 0\n",
        "\n",
        "keep_index = []\n",
        "best_return = 0\n",
        "\n",
        "for i in range(all_possibilities.shape[0]):\n",
        "  returns = winning_prob(all_possibilities[i,:].tolist())\n",
        "  if returns[player_index] > best_return:\n",
        "    best_return = returns[player_index]\n",
        "    keep_index = [i]\n",
        "  elif returns[player_index] == best_return:\n",
        "    keep_index = keep_index + [i]\n",
        "\n",
        "all_possibilities = all_possibilities[keep_index, :]\n",
        "\n",
        "print(all_possibilities.shape)"
      ],
      "execution_count": null,
      "outputs": [
        {
          "output_type": "stream",
          "text": [
            "(4, 4) float16\n"
          ],
          "name": "stdout"
        }
      ]
    },
    {
      "cell_type": "code",
      "metadata": {
        "id": "J6kKWIZ2LHc3",
        "colab_type": "code",
        "colab": {
          "base_uri": "https://localhost:8080/",
          "height": 85
        },
        "outputId": "9fd960ca-408e-4687-b4e0-2a3cc51f0aa4"
      },
      "source": [
        "# Check the best moves and returns of player a:\n",
        "for i in range(all_possibilities.shape[0]):\n",
        "  returns = winning_prob(all_possibilities[i,:].tolist())\n",
        "  print(all_possibilities[i,:], returns)"
      ],
      "execution_count": null,
      "outputs": [
        {
          "output_type": "stream",
          "text": [
            "[0.16 0.84 0.5  0.18] [0.17, 0.33, 0.33, 0.17]\n",
            "[0.5  0.16 0.82 0.48] [0.17, 0.32, 0.34, 0.17]\n",
            "[0.5  0.84 0.18 0.52] [0.17, 0.32, 0.34, 0.17]\n",
            "[0.84 0.16 0.5  0.82] [0.17, 0.33, 0.33, 0.17]\n"
          ],
          "name": "stdout"
        }
      ]
    }
  ]
}